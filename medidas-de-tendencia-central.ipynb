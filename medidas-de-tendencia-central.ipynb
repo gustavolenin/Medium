{
 "cells": [
  {
   "cell_type": "code",
   "execution_count": 1,
   "id": "733b48db",
   "metadata": {
    "_cell_guid": "b1076dfc-b9ad-4769-8c92-a6c4dae69d19",
    "_uuid": "8f2839f25d086af736a60e9eeb907d3b93b6e0e5",
    "execution": {
     "iopub.execute_input": "2022-07-17T00:26:07.637482Z",
     "iopub.status.busy": "2022-07-17T00:26:07.636632Z",
     "iopub.status.idle": "2022-07-17T00:26:07.651902Z",
     "shell.execute_reply": "2022-07-17T00:26:07.650605Z"
    },
    "papermill": {
     "duration": 0.024151,
     "end_time": "2022-07-17T00:26:07.654877",
     "exception": false,
     "start_time": "2022-07-17T00:26:07.630726",
     "status": "completed"
    },
    "tags": []
   },
   "outputs": [],
   "source": [
    "# Importar Bibliotecas utilizadas\n",
    "import numpy as np \n",
    "import statistics"
   ]
  },
  {
   "cell_type": "code",
   "execution_count": 2,
   "id": "253481c6",
   "metadata": {
    "execution": {
     "iopub.execute_input": "2022-07-17T00:26:07.662074Z",
     "iopub.status.busy": "2022-07-17T00:26:07.661609Z",
     "iopub.status.idle": "2022-07-17T00:26:07.667061Z",
     "shell.execute_reply": "2022-07-17T00:26:07.665916Z"
    },
    "papermill": {
     "duration": 0.011269,
     "end_time": "2022-07-17T00:26:07.669132",
     "exception": false,
     "start_time": "2022-07-17T00:26:07.657863",
     "status": "completed"
    },
    "tags": []
   },
   "outputs": [],
   "source": [
    "# Conjunto de dados\n",
    "dados = np.array([1,2,5,7,9,4,5,3,5])"
   ]
  },
  {
   "cell_type": "code",
   "execution_count": 3,
   "id": "16c26ec4",
   "metadata": {
    "execution": {
     "iopub.execute_input": "2022-07-17T00:26:07.675792Z",
     "iopub.status.busy": "2022-07-17T00:26:07.675388Z",
     "iopub.status.idle": "2022-07-17T00:26:07.681246Z",
     "shell.execute_reply": "2022-07-17T00:26:07.680427Z"
    },
    "papermill": {
     "duration": 0.011932,
     "end_time": "2022-07-17T00:26:07.683708",
     "exception": false,
     "start_time": "2022-07-17T00:26:07.671776",
     "status": "completed"
    },
    "tags": []
   },
   "outputs": [
    {
     "name": "stdout",
     "output_type": "stream",
     "text": [
      "Média = 4.555555555555555\n"
     ]
    }
   ],
   "source": [
    "# Cálculo da média\n",
    "media = dados.mean()\n",
    "print('Média =',media)"
   ]
  },
  {
   "cell_type": "code",
   "execution_count": 4,
   "id": "e36c608a",
   "metadata": {
    "execution": {
     "iopub.execute_input": "2022-07-17T00:26:07.690959Z",
     "iopub.status.busy": "2022-07-17T00:26:07.690516Z",
     "iopub.status.idle": "2022-07-17T00:26:07.699918Z",
     "shell.execute_reply": "2022-07-17T00:26:07.698481Z"
    },
    "papermill": {
     "duration": 0.015945,
     "end_time": "2022-07-17T00:26:07.702380",
     "exception": false,
     "start_time": "2022-07-17T00:26:07.686435",
     "status": "completed"
    },
    "tags": []
   },
   "outputs": [
    {
     "name": "stdout",
     "output_type": "stream",
     "text": [
      "Moda = 5\n"
     ]
    }
   ],
   "source": [
    "# Cálculo da moda\n",
    "moda = statistics.mode(dados)\n",
    "print('Moda =',moda)"
   ]
  },
  {
   "cell_type": "code",
   "execution_count": 5,
   "id": "cf0de9ee",
   "metadata": {
    "execution": {
     "iopub.execute_input": "2022-07-17T00:26:07.710160Z",
     "iopub.status.busy": "2022-07-17T00:26:07.709681Z",
     "iopub.status.idle": "2022-07-17T00:26:07.715072Z",
     "shell.execute_reply": "2022-07-17T00:26:07.714252Z"
    },
    "papermill": {
     "duration": 0.012175,
     "end_time": "2022-07-17T00:26:07.717394",
     "exception": false,
     "start_time": "2022-07-17T00:26:07.705219",
     "status": "completed"
    },
    "tags": []
   },
   "outputs": [
    {
     "name": "stdout",
     "output_type": "stream",
     "text": [
      "Mediana = 5\n"
     ]
    }
   ],
   "source": [
    "# Cálculo da mediana\n",
    "mediana = statistics.median(dados)\n",
    "print('Mediana =',mediana)"
   ]
  }
 ],
 "metadata": {
  "kernelspec": {
   "display_name": "Python 3",
   "language": "python",
   "name": "python3"
  },
  "language_info": {
   "codemirror_mode": {
    "name": "ipython",
    "version": 3
   },
   "file_extension": ".py",
   "mimetype": "text/x-python",
   "name": "python",
   "nbconvert_exporter": "python",
   "pygments_lexer": "ipython3",
   "version": "3.7.12"
  },
  "papermill": {
   "default_parameters": {},
   "duration": 11.835782,
   "end_time": "2022-07-17T00:26:08.643169",
   "environment_variables": {},
   "exception": null,
   "input_path": "__notebook__.ipynb",
   "output_path": "__notebook__.ipynb",
   "parameters": {},
   "start_time": "2022-07-17T00:25:56.807387",
   "version": "2.3.4"
  }
 },
 "nbformat": 4,
 "nbformat_minor": 5
}
