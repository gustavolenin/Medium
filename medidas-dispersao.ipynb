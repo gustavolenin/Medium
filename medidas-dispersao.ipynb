{
 "cells": [
  {
   "cell_type": "markdown",
   "id": "c47c19bf",
   "metadata": {
    "papermill": {
     "duration": 0.006827,
     "end_time": "2022-07-30T19:56:24.588506",
     "exception": false,
     "start_time": "2022-07-30T19:56:24.581679",
     "status": "completed"
    },
    "tags": []
   },
   "source": [
    "# Importação das Bibliotecas utilizadas e Declaração do Conjunto de Dados"
   ]
  },
  {
   "cell_type": "code",
   "execution_count": 1,
   "id": "7fe50e06",
   "metadata": {
    "_cell_guid": "b1076dfc-b9ad-4769-8c92-a6c4dae69d19",
    "_uuid": "8f2839f25d086af736a60e9eeb907d3b93b6e0e5",
    "execution": {
     "iopub.execute_input": "2022-07-30T19:56:24.602012Z",
     "iopub.status.busy": "2022-07-30T19:56:24.601332Z",
     "iopub.status.idle": "2022-07-30T19:56:25.749582Z",
     "shell.execute_reply": "2022-07-30T19:56:25.748386Z"
    },
    "papermill": {
     "duration": 1.15806,
     "end_time": "2022-07-30T19:56:25.752295",
     "exception": false,
     "start_time": "2022-07-30T19:56:24.594235",
     "status": "completed"
    },
    "tags": []
   },
   "outputs": [],
   "source": [
    "# Importar Bibliotecas utilizadas\n",
    "import numpy as np \n",
    "import pandas as pd\n",
    "import statistics\n",
    "import matplotlib.pyplot as plt\n",
    "import seaborn as sns\n",
    "\n",
    "# Conjuntos de dados\n",
    "conjunto_de_dados_1 = np.array([7,3,2,7,1]) \n",
    "conjunto_de_dados_2 = np.array([4,4,4,4,4]) \n",
    "conjunto_de_dados_3 = np.array([8,8,1,1,2]) \n",
    "conjunto_de_dados_4 = np.array([6,4,4,2,4]) \n",
    "\n",
    "# Lista com os Conjuntos de Dados\n",
    "conjuntos = [conjunto_de_dados_1,conjunto_de_dados_2,conjunto_de_dados_3,conjunto_de_dados_4]"
   ]
  },
  {
   "cell_type": "markdown",
   "id": "7e035ca6",
   "metadata": {
    "papermill": {
     "duration": 0.005612,
     "end_time": "2022-07-30T19:56:25.763955",
     "exception": false,
     "start_time": "2022-07-30T19:56:25.758343",
     "status": "completed"
    },
    "tags": []
   },
   "source": [
    "# Construção de Funções que auxiliam nos cálculos necessários "
   ]
  },
  {
   "cell_type": "code",
   "execution_count": 2,
   "id": "a42d5301",
   "metadata": {
    "execution": {
     "iopub.execute_input": "2022-07-30T19:56:25.777609Z",
     "iopub.status.busy": "2022-07-30T19:56:25.776698Z",
     "iopub.status.idle": "2022-07-30T19:56:25.782224Z",
     "shell.execute_reply": "2022-07-30T19:56:25.781216Z"
    },
    "papermill": {
     "duration": 0.01472,
     "end_time": "2022-07-30T19:56:25.784537",
     "exception": false,
     "start_time": "2022-07-30T19:56:25.769817",
     "status": "completed"
    },
    "tags": []
   },
   "outputs": [],
   "source": [
    "# Função que calcula a Amplitude (Range)\n",
    "def amplitude(conjunto_de_dados):\n",
    "    amplitude = np.max(conjunto_de_dados) - np.min(conjunto_de_dados)\n",
    "    return amplitude"
   ]
  },
  {
   "cell_type": "code",
   "execution_count": 3,
   "id": "fbf238de",
   "metadata": {
    "execution": {
     "iopub.execute_input": "2022-07-30T19:56:25.797639Z",
     "iopub.status.busy": "2022-07-30T19:56:25.796890Z",
     "iopub.status.idle": "2022-07-30T19:56:25.805721Z",
     "shell.execute_reply": "2022-07-30T19:56:25.804733Z"
    },
    "papermill": {
     "duration": 0.017699,
     "end_time": "2022-07-30T19:56:25.807813",
     "exception": false,
     "start_time": "2022-07-30T19:56:25.790114",
     "status": "completed"
    },
    "tags": []
   },
   "outputs": [],
   "source": [
    "# Função que gera gráficos de dispersão (scatterplots)\n",
    "def graficos_dispersao(conjuntos):\n",
    "    \n",
    "    fig, ax = plt.subplots(2,2, figsize=(12,10),sharey=True)\n",
    "    indice = 0\n",
    "    for j in range(len(ax)):\n",
    "        for i in range(len(ax[j])):\n",
    "            ax[j][i].tick_params(labelsize=10)\n",
    "            ax[j][i] = sns.scatterplot(data=conjuntos[indice], ax=ax[j][i])\n",
    "            title = 'Conjunto de Dados ' + str(indice+1)\n",
    "            ax[j][i].set_title(title)\n",
    "            indice += 1\n",
    "    fig.suptitle('Gráficos de Dispersão', position=(.5,1), fontsize=20)\n",
    "    fig.tight_layout()\n",
    "\n",
    "    return"
   ]
  },
  {
   "cell_type": "code",
   "execution_count": 4,
   "id": "4a450be0",
   "metadata": {
    "execution": {
     "iopub.execute_input": "2022-07-30T19:56:25.821884Z",
     "iopub.status.busy": "2022-07-30T19:56:25.821176Z",
     "iopub.status.idle": "2022-07-30T19:56:25.827729Z",
     "shell.execute_reply": "2022-07-30T19:56:25.826571Z"
    },
    "papermill": {
     "duration": 0.015963,
     "end_time": "2022-07-30T19:56:25.829898",
     "exception": false,
     "start_time": "2022-07-30T19:56:25.813935",
     "status": "completed"
    },
    "tags": []
   },
   "outputs": [],
   "source": [
    "# Função que calcula a variância populacional\n",
    "def variancia_populacional(conjunto_de_dados):\n",
    "    \n",
    "    # Cálculo da média do conjunto de dados\n",
    "    media = conjunto_de_dados.mean()\n",
    "    \n",
    "    # Elevando ao quadrado o valor absoluto da diferença de cada valor do dado do conjunto pela média  \n",
    "    # e dividindo pelo número de observações\n",
    "    abs_diff = np.abs(conjunto_de_dados - media)**2/np.size(conjunto_de_dados)\n",
    "    \n",
    "    # Somando abs_diff\n",
    "    var = sum(abs_diff)\n",
    "    \n",
    "    return var"
   ]
  },
  {
   "cell_type": "code",
   "execution_count": 5,
   "id": "4155f881",
   "metadata": {
    "execution": {
     "iopub.execute_input": "2022-07-30T19:56:25.843102Z",
     "iopub.status.busy": "2022-07-30T19:56:25.842036Z",
     "iopub.status.idle": "2022-07-30T19:56:25.848600Z",
     "shell.execute_reply": "2022-07-30T19:56:25.847647Z"
    },
    "papermill": {
     "duration": 0.015482,
     "end_time": "2022-07-30T19:56:25.850947",
     "exception": false,
     "start_time": "2022-07-30T19:56:25.835465",
     "status": "completed"
    },
    "tags": []
   },
   "outputs": [],
   "source": [
    "# Função que calcula a variância amostral\n",
    "def variancia_amostral(conjunto_de_dados):\n",
    "    \n",
    "    # Cálculo da média do conjunto de dados\n",
    "    media = conjunto_de_dados.mean()\n",
    "    \n",
    "    # Elevando ao quadrado o valor absoluto da diferença de cada valor do dado do conjunto pela média  \n",
    "    # e dividindo pelo número de observações menos 1\n",
    "    abs_diff = np.abs(conjunto_de_dados - media)**2/(np.size(conjunto_de_dados)-1)\n",
    "    \n",
    "    # Somando abs_diff\n",
    "    var = sum(abs_diff)\n",
    "    \n",
    "    return var"
   ]
  },
  {
   "cell_type": "code",
   "execution_count": 6,
   "id": "861025e7",
   "metadata": {
    "execution": {
     "iopub.execute_input": "2022-07-30T19:56:25.864468Z",
     "iopub.status.busy": "2022-07-30T19:56:25.863675Z",
     "iopub.status.idle": "2022-07-30T19:56:25.870542Z",
     "shell.execute_reply": "2022-07-30T19:56:25.869228Z"
    },
    "papermill": {
     "duration": 0.015787,
     "end_time": "2022-07-30T19:56:25.872659",
     "exception": false,
     "start_time": "2022-07-30T19:56:25.856872",
     "status": "completed"
    },
    "tags": []
   },
   "outputs": [],
   "source": [
    "# Função que calcula o desvio padrão populacional\n",
    "def desvio_padrao_populacional(conjunto_de_dados):\n",
    "    \n",
    "    # Cálculo da média do conjunto de dados\n",
    "    media = conjunto_de_dados.mean()\n",
    "    \n",
    "    # Elevando ao quadrado o valor absoluto da diferença de cada valor do dado do conjunto pela média  \n",
    "    # e dividindo pelo número de observações\n",
    "    abs_diff = np.abs(conjunto_de_dados - media)**2/np.size(conjunto_de_dados)\n",
    "    \n",
    "    # Somando abs_diff\n",
    "    var = sum(abs_diff)\n",
    "    \n",
    "    # Extraindo a raiz quadrada da variância\n",
    "    dp = np.sqrt(var)\n",
    "    \n",
    "    return dp"
   ]
  },
  {
   "cell_type": "code",
   "execution_count": 7,
   "id": "83d74879",
   "metadata": {
    "execution": {
     "iopub.execute_input": "2022-07-30T19:56:25.886841Z",
     "iopub.status.busy": "2022-07-30T19:56:25.886084Z",
     "iopub.status.idle": "2022-07-30T19:56:25.892990Z",
     "shell.execute_reply": "2022-07-30T19:56:25.891858Z"
    },
    "papermill": {
     "duration": 0.016715,
     "end_time": "2022-07-30T19:56:25.895356",
     "exception": false,
     "start_time": "2022-07-30T19:56:25.878641",
     "status": "completed"
    },
    "tags": []
   },
   "outputs": [],
   "source": [
    "# Função que calcula o desvio padrão amostral\n",
    "def desvio_padrao_amostral(conjunto_de_dados):\n",
    "    \n",
    "    # Cálculo da média do conjunto de dados\n",
    "    media = conjunto_de_dados.mean()\n",
    "    \n",
    "    # Elevando ao quadrado o valor absoluto da diferença de cada valor do dado do conjunto pela média  \n",
    "    # e dividindo pelo número de observações menos 1\n",
    "    abs_diff = np.abs(conjunto_de_dados - media)**2/(np.size(conjunto_de_dados)-1)\n",
    "    \n",
    "    # abs_diff\n",
    "    var = sum(abs_diff)\n",
    "    \n",
    "    # Extraindo a raiz quadrada da variância\n",
    "    dp = np.sqrt(var)\n",
    "    \n",
    "    return dp"
   ]
  },
  {
   "cell_type": "code",
   "execution_count": 8,
   "id": "b28b3cca",
   "metadata": {
    "execution": {
     "iopub.execute_input": "2022-07-30T19:56:25.909010Z",
     "iopub.status.busy": "2022-07-30T19:56:25.908314Z",
     "iopub.status.idle": "2022-07-30T19:56:25.914269Z",
     "shell.execute_reply": "2022-07-30T19:56:25.913477Z"
    },
    "papermill": {
     "duration": 0.015245,
     "end_time": "2022-07-30T19:56:25.916609",
     "exception": false,
     "start_time": "2022-07-30T19:56:25.901364",
     "status": "completed"
    },
    "tags": []
   },
   "outputs": [],
   "source": [
    "# Função que calcula o 1º, 2º e 3º quartil\n",
    "def quartil(conjunto_de_dados):\n",
    "\n",
    "    Q1 = np.quantile(conjunto_de_dados,0.25)\n",
    "    \n",
    "    Q2 = np.quantile(conjunto_de_dados,0.50)\n",
    "\n",
    "    Q3 = np.quantile(conjunto_de_dados,0.75)\n",
    "    \n",
    "    return Q1, Q2, Q3"
   ]
  },
  {
   "cell_type": "code",
   "execution_count": 9,
   "id": "535955c9",
   "metadata": {
    "execution": {
     "iopub.execute_input": "2022-07-30T19:56:25.930167Z",
     "iopub.status.busy": "2022-07-30T19:56:25.929579Z",
     "iopub.status.idle": "2022-07-30T19:56:25.938154Z",
     "shell.execute_reply": "2022-07-30T19:56:25.937096Z"
    },
    "papermill": {
     "duration": 0.01771,
     "end_time": "2022-07-30T19:56:25.940221",
     "exception": false,
     "start_time": "2022-07-30T19:56:25.922511",
     "status": "completed"
    },
    "tags": []
   },
   "outputs": [],
   "source": [
    "# Função que plota o boxplot\n",
    "def boxplot(conjuntos):\n",
    "    \n",
    "    fig, ax = plt.subplots(2,2, figsize=(12,10),sharey=False)\n",
    "    indice = 0\n",
    "    for j in range(len(ax)):\n",
    "        for i in range(len(ax[j])):\n",
    "            ax[j][i].tick_params(labelsize=10)\n",
    "            ax[j][i] = sns.boxplot(data=conjuntos[indice], ax=ax[j][i])\n",
    "            title = 'Conjunto de Dados ' + str(indice+1)\n",
    "            ax[j][i].set_title(title)\n",
    "            indice += 1\n",
    "    fig.suptitle('Boxplots', position=(.5,1), fontsize=20)\n",
    "    fig.tight_layout()\n",
    "    \n",
    "    return"
   ]
  },
  {
   "cell_type": "code",
   "execution_count": 10,
   "id": "96e7e3fb",
   "metadata": {
    "execution": {
     "iopub.execute_input": "2022-07-30T19:56:25.954075Z",
     "iopub.status.busy": "2022-07-30T19:56:25.953329Z",
     "iopub.status.idle": "2022-07-30T19:56:25.960258Z",
     "shell.execute_reply": "2022-07-30T19:56:25.959217Z"
    },
    "papermill": {
     "duration": 0.016435,
     "end_time": "2022-07-30T19:56:25.962669",
     "exception": false,
     "start_time": "2022-07-30T19:56:25.946234",
     "status": "completed"
    },
    "tags": []
   },
   "outputs": [],
   "source": [
    "# Função que calcula outliers segundo o critério de John Tukey\n",
    "def outliers(conjunto_de_dados):\n",
    "    \n",
    "    Q1, Q2, Q3 = quartil(conjunto_de_dados)\n",
    "    \n",
    "    # Cálculo do intervalo interquartil\n",
    "    IQR = Q3 - Q1 \n",
    "    \n",
    "    # Cálculo da quantidade de outliers acima do limite superior (outlier_superior > Q3 + 1,5*IQR)\n",
    "    limite_superior = Q3 + 1.5*IQR\n",
    "\n",
    "    # Cálculo da quantidade de outliers acima do limite inferior (outlier_inferior > Q1 - 1,5*IQR)\n",
    "    limite_inferior = Q1 - 1.5*IQR\n",
    "    \n",
    "    # Contagem da quantidade de termos acima do limite superior ou abaixo do limite inferior\n",
    "    outlier = sum(conjunto_de_dados > limite_superior) + sum(conjunto_de_dados < limite_inferior)\n",
    "    \n",
    "    return outlier"
   ]
  },
  {
   "cell_type": "code",
   "execution_count": 11,
   "id": "a26ed0c5",
   "metadata": {
    "execution": {
     "iopub.execute_input": "2022-07-30T19:56:25.975884Z",
     "iopub.status.busy": "2022-07-30T19:56:25.974942Z",
     "iopub.status.idle": "2022-07-30T19:56:25.980076Z",
     "shell.execute_reply": "2022-07-30T19:56:25.979214Z"
    },
    "papermill": {
     "duration": 0.013471,
     "end_time": "2022-07-30T19:56:25.982075",
     "exception": false,
     "start_time": "2022-07-30T19:56:25.968604",
     "status": "completed"
    },
    "tags": []
   },
   "outputs": [],
   "source": [
    "# Transformação para DataFrame\n",
    "def array_to_dataframe(conjunto_de_dados_array):\n",
    "    \n",
    "    conjunto_de_dados_dataframe = pd.DataFrame(conjunto_de_dados_array,columns=['Medidas'])\n",
    "    \n",
    "    return conjunto_de_dados_dataframe"
   ]
  },
  {
   "cell_type": "markdown",
   "id": "ba41c08b",
   "metadata": {
    "papermill": {
     "duration": 0.005236,
     "end_time": "2022-07-30T19:56:25.992977",
     "exception": false,
     "start_time": "2022-07-30T19:56:25.987741",
     "status": "completed"
    },
    "tags": []
   },
   "source": [
    "# Visualização Gráfica - Scatterplot e Boxplot"
   ]
  },
  {
   "cell_type": "code",
   "execution_count": 12,
   "id": "96c7cbea",
   "metadata": {
    "execution": {
     "iopub.execute_input": "2022-07-30T19:56:26.005990Z",
     "iopub.status.busy": "2022-07-30T19:56:26.005285Z",
     "iopub.status.idle": "2022-07-30T19:56:26.772131Z",
     "shell.execute_reply": "2022-07-30T19:56:26.771351Z"
    },
    "papermill": {
     "duration": 0.777113,
     "end_time": "2022-07-30T19:56:26.775627",
     "exception": false,
     "start_time": "2022-07-30T19:56:25.998514",
     "status": "completed"
    },
    "tags": []
   },
   "outputs": [
    {
     "data": {
      "image/png": "[encoded data removed]",
      "text/plain": [
       "<Figure size 864x720 with 4 Axes>"
      ]
     },
     "metadata": {
      "needs_background": "light"
     },
     "output_type": "display_data"
    }
   ],
   "source": [
    "# Plotagem dos Gráficos de Dispersão\n",
    "graficos_dispersao(conjuntos)"
   ]
  },
  {
   "cell_type": "code",
   "execution_count": 13,
   "id": "c2e446df",
   "metadata": {
    "execution": {
     "iopub.execute_input": "2022-07-30T19:56:26.790705Z",
     "iopub.status.busy": "2022-07-30T19:56:26.790009Z",
     "iopub.status.idle": "2022-07-30T19:56:27.299859Z",
     "shell.execute_reply": "2022-07-30T19:56:27.299085Z"
    },
    "papermill": {
     "duration": 0.519674,
     "end_time": "2022-07-30T19:56:27.302321",
     "exception": false,
     "start_time": "2022-07-30T19:56:26.782647",
     "status": "completed"
    },
    "tags": []
   },
   "outputs": [
    {
     "data": {
      "image/png": "[encoded data removed]",
      "text/plain": [
       "<Figure size 864x720 with 4 Axes>"
      ]
     },
     "metadata": {
      "needs_background": "light"
     },
     "output_type": "display_data"
    }
   ],
   "source": [
    "# Plotagem dos Gráficos de Boxplot\n",
    "boxplot(conjuntos)"
   ]
  },
  {
   "cell_type": "markdown",
   "id": "496d49c1",
   "metadata": {
    "papermill": {
     "duration": 0.006772,
     "end_time": "2022-07-30T19:56:27.316383",
     "exception": false,
     "start_time": "2022-07-30T19:56:27.309611",
     "status": "completed"
    },
    "tags": []
   },
   "source": [
    "# Resultados "
   ]
  },
  {
   "cell_type": "code",
   "execution_count": 14,
   "id": "22ea1f13",
   "metadata": {
    "execution": {
     "iopub.execute_input": "2022-07-30T19:56:27.331709Z",
     "iopub.status.busy": "2022-07-30T19:56:27.331081Z",
     "iopub.status.idle": "2022-07-30T19:56:27.373016Z",
     "shell.execute_reply": "2022-07-30T19:56:27.370147Z"
    },
    "papermill": {
     "duration": 0.052936,
     "end_time": "2022-07-30T19:56:27.376133",
     "exception": false,
     "start_time": "2022-07-30T19:56:27.323197",
     "status": "completed"
    },
    "tags": []
   },
   "outputs": [
    {
     "name": "stdout",
     "output_type": "stream",
     "text": [
      "--------------------------------------------------\n",
      "Conjunto de Dados 1 \n",
      "\n",
      "Amplitude: 6 \n",
      "\n",
      "Variância Populacional: 6.3999999999999995 \n",
      "\n",
      "Variância Amostral: 8.0 \n",
      "\n",
      "Desvio Padrão Populacional: 2.5298221281347035 \n",
      "\n",
      "Desvio Padrão Amostral: 2.8284271247461903 \n",
      "\n",
      "Primeiro Quartil: 2.0 | Segundo Quartil: 3.0 | Terceiro Quartil: 7.0 \n",
      "\n",
      "Quantidade de Outliers: 0 \n",
      "\n",
      "Resultados utilizando Describe \n",
      "         Medidas\n",
      "count  5.000000\n",
      "mean   4.000000\n",
      "std    2.828427\n",
      "min    1.000000\n",
      "25%    2.000000\n",
      "50%    3.000000\n",
      "75%    7.000000\n",
      "max    7.000000 \n",
      "\n",
      "--------------------------------------------------\n",
      "Conjunto de Dados 2 \n",
      "\n",
      "Amplitude: 0 \n",
      "\n",
      "Variância Populacional: 0.0 \n",
      "\n",
      "Variância Amostral: 0.0 \n",
      "\n",
      "Desvio Padrão Populacional: 0.0 \n",
      "\n",
      "Desvio Padrão Amostral: 0.0 \n",
      "\n",
      "Primeiro Quartil: 4.0 | Segundo Quartil: 4.0 | Terceiro Quartil: 4.0 \n",
      "\n",
      "Quantidade de Outliers: 0 \n",
      "\n",
      "Resultados utilizando Describe \n",
      "        Medidas\n",
      "count      5.0\n",
      "mean       4.0\n",
      "std        0.0\n",
      "min        4.0\n",
      "25%        4.0\n",
      "50%        4.0\n",
      "75%        4.0\n",
      "max        4.0 \n",
      "\n",
      "--------------------------------------------------\n",
      "Conjunto de Dados 3 \n",
      "\n",
      "Amplitude: 7 \n",
      "\n",
      "Variância Populacional: 10.800000000000002 \n",
      "\n",
      "Variância Amostral: 13.5 \n",
      "\n",
      "Desvio Padrão Populacional: 3.286335345030997 \n",
      "\n",
      "Desvio Padrão Amostral: 3.6742346141747673 \n",
      "\n",
      "Primeiro Quartil: 1.0 | Segundo Quartil: 2.0 | Terceiro Quartil: 8.0 \n",
      "\n",
      "Quantidade de Outliers: 0 \n",
      "\n",
      "Resultados utilizando Describe \n",
      "         Medidas\n",
      "count  5.000000\n",
      "mean   4.000000\n",
      "std    3.674235\n",
      "min    1.000000\n",
      "25%    1.000000\n",
      "50%    2.000000\n",
      "75%    8.000000\n",
      "max    8.000000 \n",
      "\n",
      "--------------------------------------------------\n",
      "Conjunto de Dados 4 \n",
      "\n",
      "Amplitude: 4 \n",
      "\n",
      "Variância Populacional: 1.6 \n",
      "\n",
      "Variância Amostral: 2.0 \n",
      "\n",
      "Desvio Padrão Populacional: 1.2649110640673518 \n",
      "\n",
      "Desvio Padrão Amostral: 1.4142135623730951 \n",
      "\n",
      "Primeiro Quartil: 4.0 | Segundo Quartil: 4.0 | Terceiro Quartil: 4.0 \n",
      "\n",
      "Quantidade de Outliers: 2 \n",
      "\n",
      "Resultados utilizando Describe \n",
      "         Medidas\n",
      "count  5.000000\n",
      "mean   4.000000\n",
      "std    1.414214\n",
      "min    2.000000\n",
      "25%    4.000000\n",
      "50%    4.000000\n",
      "75%    4.000000\n",
      "max    6.000000 \n",
      "\n",
      "--------------------------------------------------\n"
     ]
    }
   ],
   "source": [
    "print('--------------------------------------------------')\n",
    "indice = 1\n",
    "for conjunto in conjuntos:\n",
    "    \n",
    "    conjunto_de_dados = array_to_dataframe(conjunto)\n",
    "    amp               = amplitude(conjunto)\n",
    "    var_pop           = variancia_populacional(conjunto)\n",
    "    var_amostral      = variancia_amostral(conjunto)\n",
    "    dp_pop            = desvio_padrao_populacional(conjunto)\n",
    "    dp_amostral       = desvio_padrao_amostral(conjunto)\n",
    "    Q1,Q2,Q3          = quartil(conjunto)\n",
    "    outlier           = outliers(conjunto)\n",
    "    print('Conjunto de Dados',indice,'\\n')\n",
    "    print('Amplitude:',amp,'\\n')\n",
    "    print('Variância Populacional:',var_pop,'\\n')\n",
    "    print('Variância Amostral:',var_amostral,'\\n')\n",
    "    print('Desvio Padrão Populacional:',dp_pop,'\\n')\n",
    "    print('Desvio Padrão Amostral:',dp_amostral,'\\n')\n",
    "    print('Primeiro Quartil:',Q1,'|','Segundo Quartil:',Q2,'|','Terceiro Quartil:',Q3,'\\n')\n",
    "    print('Quantidade de Outliers:',outlier,'\\n')\n",
    "    print('Resultados utilizando Describe \\n',conjunto_de_dados.describe(),'\\n')\n",
    "    print('--------------------------------------------------')\n",
    "    indice += 1"
   ]
  },
  {
   "cell_type": "markdown",
   "id": "29dfa675",
   "metadata": {
    "papermill": {
     "duration": 0.006194,
     "end_time": "2022-07-30T19:56:27.390111",
     "exception": false,
     "start_time": "2022-07-30T19:56:27.383917",
     "status": "completed"
    },
    "tags": []
   },
   "source": [
    "Notamos que o desvio padrão calculado pelo método describe é o desvio padrão amostral."
   ]
  }
 ],
 "metadata": {
  "kernelspec": {
   "display_name": "Python 3",
   "language": "python",
   "name": "python3"
  },
  "language_info": {
   "codemirror_mode": {
    "name": "ipython",
    "version": 3
   },
   "file_extension": ".py",
   "mimetype": "text/x-python",
   "name": "python",
   "nbconvert_exporter": "python",
   "pygments_lexer": "ipython3",
   "version": "3.7.12"
  },
  "papermill": {
   "default_parameters": {},
   "duration": 13.132218,
   "end_time": "2022-07-30T19:56:28.119017",
   "environment_variables": {},
   "exception": null,
   "input_path": "__notebook__.ipynb",
   "output_path": "__notebook__.ipynb",
   "parameters": {},
   "start_time": "2022-07-30T19:56:14.986799",
   "version": "2.3.4"
  }
 },
 "nbformat": 4,
 "nbformat_minor": 5
}
